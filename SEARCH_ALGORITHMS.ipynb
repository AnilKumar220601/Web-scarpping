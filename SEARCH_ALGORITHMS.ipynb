{
  "nbformat": 4,
  "nbformat_minor": 0,
  "metadata": {
    "colab": {
      "provenance": [],
      "include_colab_link": true
    },
    "kernelspec": {
      "name": "python3",
      "display_name": "Python 3"
    },
    "language_info": {
      "name": "python"
    }
  },
  "cells": [
    {
      "cell_type": "markdown",
      "metadata": {
        "id": "view-in-github",
        "colab_type": "text"
      },
      "source": [
        "<a href=\"https://colab.research.google.com/github/AnilKumar220601/Web-scarpping/blob/main/SEARCH_ALGORITHMS.ipynb\" target=\"_parent\"><img src=\"https://colab.research.google.com/assets/colab-badge.svg\" alt=\"Open In Colab\"/></a>"
      ]
    },
    {
      "cell_type": "markdown",
      "source": [
        "### **BREADTH FIRST SEARCH (BFS)**"
      ],
      "metadata": {
        "id": "6Nd1WoJO2lDX"
      }
    },
    {
      "cell_type": "code",
      "execution_count": null,
      "metadata": {
        "id": "rTnqdkgHtsk8"
      },
      "outputs": [],
      "source": [
        "my_adj={\n",
        "    'sam':['Aaron','Binny'],\n",
        "    'Aaron':['sam','Christine','Danny'],\n",
        "    'Christine':['Aaron'],\n",
        "    'Danny':['Aaron'],\n",
        "    'Binny':['sam','Elvin','Flin'],\n",
        "    'Elvin':['Binny','Gini'],\n",
        "    'Flin':['Binny'],\n",
        "    'Gini':['Elvin']\n",
        "}"
      ]
    },
    {
      "cell_type": "code",
      "source": [
        "from collections import deque"
      ],
      "metadata": {
        "id": "rZSxp5nEwLHh"
      },
      "execution_count": null,
      "outputs": []
    },
    {
      "cell_type": "code",
      "source": [
        "def bfs(my_adj,start,goal):\n",
        "    visited = []\n",
        "    queue = deque([start])\n",
        "    while queue:\n",
        "      node = queue.popleft()\n",
        "      if node not in visited :\n",
        "        visited.append(node)\n",
        "        print(\"i have visited:\",node)\n",
        "        neighbours = my_adj[node]\n",
        "        if node == goal:\n",
        "          return(\"I have visited and my path is:\",visited)\n",
        "        for neighbour in neighbours:\n",
        "          queue.append(neighbour)\n"
      ],
      "metadata": {
        "id": "vU0YGKDywbGQ"
      },
      "execution_count": null,
      "outputs": []
    },
    {
      "cell_type": "code",
      "source": [
        "bfs(my_adj,'sam','Gini')"
      ],
      "metadata": {
        "colab": {
          "base_uri": "https://localhost:8080/"
        },
        "id": "Ko7XlzJrzwI0",
        "outputId": "c3ed8899-bc35-46bb-dbf5-5ba329a3c287"
      },
      "execution_count": null,
      "outputs": [
        {
          "output_type": "stream",
          "name": "stdout",
          "text": [
            "i have visited: sam\n",
            "i have visited: Aaron\n",
            "i have visited: Binny\n",
            "i have visited: Christine\n",
            "i have visited: Danny\n",
            "i have visited: Elvin\n",
            "i have visited: Flin\n",
            "i have visited: Gini\n"
          ]
        },
        {
          "output_type": "execute_result",
          "data": {
            "text/plain": [
              "('I have visited and my path is:',\n",
              " ['sam', 'Aaron', 'Binny', 'Christine', 'Danny', 'Elvin', 'Flin', 'Gini'])"
            ]
          },
          "metadata": {},
          "execution_count": 22
        }
      ]
    },
    {
      "cell_type": "markdown",
      "source": [
        "### **DEPTH FIRST SEARCH (DFS)**"
      ],
      "metadata": {
        "id": "mXbb5LnI2vOV"
      }
    },
    {
      "cell_type": "code",
      "source": [],
      "metadata": {
        "id": "DswYyc0l21Le"
      },
      "execution_count": null,
      "outputs": []
    }
  ]
}